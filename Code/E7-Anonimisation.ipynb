{
 "cells": [
  {
   "cell_type": "markdown",
   "id": "3dcfe794-a40f-455e-8ca7-7d53241a109f",
   "metadata": {},
   "source": [
    "# Anonimisation\n",
    "https://faker.readthedocs.io/en/master/#"
   ]
  },
  {
   "cell_type": "code",
   "execution_count": null,
   "id": "42fef86e-f2f9-46c2-820b-108d599650dc",
   "metadata": {},
   "outputs": [],
   "source": [
    "!pip install faker"
   ]
  },
  {
   "cell_type": "code",
   "execution_count": null,
   "id": "b6d14156-a8b8-4390-bae7-2e1059c04dcf",
   "metadata": {},
   "outputs": [],
   "source": [
    "from faker import Faker"
   ]
  },
  {
   "cell_type": "code",
   "execution_count": null,
   "id": "f1232574-5817-4ca5-a053-c1553606f038",
   "metadata": {},
   "outputs": [],
   "source": [
    "import pandas as pd"
   ]
  },
  {
   "cell_type": "code",
   "execution_count": 66,
   "id": "bb909008-a674-4a93-9e56-09714b883d7b",
   "metadata": {},
   "outputs": [],
   "source": [
    "def anon(df, attr, lang, fname):\n",
    "        Faker.seed(4321)\n",
    "        fake = Faker([lang])\n",
    "\n",
    "        # replace the original names with fake names\n",
    "        dict_fake = {{name: fake.name() for name in df[attr].unique()}\n",
    "        df[attr] = df[attr].map(dict_fake)\n",
    "\n",
    "        # save the coding in a file\n",
    "        code = pd.DataFrame.from_dict(dict_fake, orient='index')\n",
    "        code.to_csv(filename)  \n",
    "        return df"
   ]
  },
  {
   "cell_type": "markdown",
   "id": "eb0a08de-30ac-48c6-a333-7b32a38f7ae7",
   "metadata": {},
   "source": [
    "## Test"
   ]
  },
  {
   "cell_type": "code",
   "execution_count": null,
   "id": "aee895d3-abaf-4ea1-939c-68e3b4dcadb5",
   "metadata": {},
   "outputs": [],
   "source": [
    "# create an instance\n",
    "fake = Faker(\"de_DE\")"
   ]
  },
  {
   "cell_type": "code",
   "execution_count": null,
   "id": "f82aabac-c38f-462f-b1cb-d19aeb23c79a",
   "metadata": {},
   "outputs": [],
   "source": [
    "# fake name\n",
    "fake.name()"
   ]
  },
  {
   "cell_type": "code",
   "execution_count": null,
   "id": "e7840027-ab8c-479f-ab49-c73c0f9cfec7",
   "metadata": {},
   "outputs": [],
   "source": [
    "# fake address\n",
    "fake.address()"
   ]
  },
  {
   "cell_type": "code",
   "execution_count": null,
   "id": "f3b492a6-f9f0-4349-a691-55e980cd0de1",
   "metadata": {},
   "outputs": [],
   "source": [
    "# fake text\n",
    "fake.text()"
   ]
  },
  {
   "cell_type": "code",
   "execution_count": 68,
   "id": "ea63870b-5673-4539-a0b3-7b64dbb9f00c",
   "metadata": {},
   "outputs": [
    {
     "data": {
      "text/plain": [
       "{'name': ['Dora', 'Lora'], 'address': ['Copenhagen', 'lyngby']}"
      ]
     },
     "execution_count": 68,
     "metadata": {},
     "output_type": "execute_result"
    }
   ],
   "source": [
    "d = {'name': ['Dora', 'Lora'] , 'address': ['Copenhagen', 'lyngby']}\n",
    "d"
   ]
  },
  {
   "cell_type": "code",
   "execution_count": 69,
   "id": "d19d04b4-d8f0-41a6-83ac-b0ec4112b21d",
   "metadata": {},
   "outputs": [
    {
     "data": {
      "text/html": [
       "<div>\n",
       "<style scoped>\n",
       "    .dataframe tbody tr th:only-of-type {\n",
       "        vertical-align: middle;\n",
       "    }\n",
       "\n",
       "    .dataframe tbody tr th {\n",
       "        vertical-align: top;\n",
       "    }\n",
       "\n",
       "    .dataframe thead th {\n",
       "        text-align: right;\n",
       "    }\n",
       "</style>\n",
       "<table border=\"1\" class=\"dataframe\">\n",
       "  <thead>\n",
       "    <tr style=\"text-align: right;\">\n",
       "      <th></th>\n",
       "      <th>name</th>\n",
       "      <th>address</th>\n",
       "    </tr>\n",
       "  </thead>\n",
       "  <tbody>\n",
       "    <tr>\n",
       "      <th>0</th>\n",
       "      <td>Dora</td>\n",
       "      <td>Copenhagen</td>\n",
       "    </tr>\n",
       "    <tr>\n",
       "      <th>1</th>\n",
       "      <td>Lora</td>\n",
       "      <td>lyngby</td>\n",
       "    </tr>\n",
       "  </tbody>\n",
       "</table>\n",
       "</div>"
      ],
      "text/plain": [
       "   name     address\n",
       "0  Dora  Copenhagen\n",
       "1  Lora      lyngby"
      ]
     },
     "execution_count": 69,
     "metadata": {},
     "output_type": "execute_result"
    }
   ],
   "source": [
    "df = pd.DataFrame(data=d)\n",
    "df"
   ]
  },
  {
   "cell_type": "code",
   "execution_count": null,
   "id": "2d811a0c-1ac9-4e71-8806-79aeaacc6b5c",
   "metadata": {},
   "outputs": [],
   "source": [
    "filename = 'anonimous.csv'"
   ]
  },
  {
   "cell_type": "code",
   "execution_count": 59,
   "id": "1932d6f4-6724-41b2-b8d1-d5d6d6327a28",
   "metadata": {},
   "outputs": [
    {
     "data": {
      "text/html": [
       "<div>\n",
       "<style scoped>\n",
       "    .dataframe tbody tr th:only-of-type {\n",
       "        vertical-align: middle;\n",
       "    }\n",
       "\n",
       "    .dataframe tbody tr th {\n",
       "        vertical-align: top;\n",
       "    }\n",
       "\n",
       "    .dataframe thead th {\n",
       "        text-align: right;\n",
       "    }\n",
       "</style>\n",
       "<table border=\"1\" class=\"dataframe\">\n",
       "  <thead>\n",
       "    <tr style=\"text-align: right;\">\n",
       "      <th></th>\n",
       "      <th>name</th>\n",
       "      <th>address</th>\n",
       "    </tr>\n",
       "  </thead>\n",
       "  <tbody>\n",
       "    <tr>\n",
       "      <th>0</th>\n",
       "      <td>Ann-Kathrin Ladeck-Bolnbach</td>\n",
       "      <td>Annetta Pistoletto</td>\n",
       "    </tr>\n",
       "    <tr>\n",
       "      <th>1</th>\n",
       "      <td>Manuela Kobelt</td>\n",
       "      <td>Eleanora Ossola</td>\n",
       "    </tr>\n",
       "  </tbody>\n",
       "</table>\n",
       "</div>"
      ],
      "text/plain": [
       "                          name             address\n",
       "0  Ann-Kathrin Ladeck-Bolnbach  Annetta Pistoletto\n",
       "1               Manuela Kobelt     Eleanora Ossola"
      ]
     },
     "execution_count": 59,
     "metadata": {},
     "output_type": "execute_result"
    }
   ],
   "source": [
    "adata = anon(df, 'name', \"de_DE\", filename)\n",
    "adata"
   ]
  },
  {
   "cell_type": "code",
   "execution_count": 61,
   "id": "dcedf514-6353-4de8-ad1f-db9c716466fa",
   "metadata": {},
   "outputs": [
    {
     "data": {
      "text/html": [
       "<div>\n",
       "<style scoped>\n",
       "    .dataframe tbody tr th:only-of-type {\n",
       "        vertical-align: middle;\n",
       "    }\n",
       "\n",
       "    .dataframe tbody tr th {\n",
       "        vertical-align: top;\n",
       "    }\n",
       "\n",
       "    .dataframe thead th {\n",
       "        text-align: right;\n",
       "    }\n",
       "</style>\n",
       "<table border=\"1\" class=\"dataframe\">\n",
       "  <thead>\n",
       "    <tr style=\"text-align: right;\">\n",
       "      <th></th>\n",
       "      <th>name</th>\n",
       "      <th>address</th>\n",
       "    </tr>\n",
       "  </thead>\n",
       "  <tbody>\n",
       "    <tr>\n",
       "      <th>0</th>\n",
       "      <td>Ann-Kathrin Ladeck-Bolnbach</td>\n",
       "      <td>Jennifer Brown</td>\n",
       "    </tr>\n",
       "    <tr>\n",
       "      <th>1</th>\n",
       "      <td>Manuela Kobelt</td>\n",
       "      <td>Holly Stein</td>\n",
       "    </tr>\n",
       "  </tbody>\n",
       "</table>\n",
       "</div>"
      ],
      "text/plain": [
       "                          name         address\n",
       "0  Ann-Kathrin Ladeck-Bolnbach  Jennifer Brown\n",
       "1               Manuela Kobelt     Holly Stein"
      ]
     },
     "execution_count": 61,
     "metadata": {},
     "output_type": "execute_result"
    }
   ],
   "source": [
    "bdata = anon(adata, 'address', 'dk_DK', filename)\n",
    "bdata"
   ]
  },
  {
   "cell_type": "code",
   "execution_count": 70,
   "id": "effca7aa-4993-4b81-aee8-9e29801c8936",
   "metadata": {},
   "outputs": [
    {
     "ename": "NameError",
     "evalue": "name 'address' is not defined",
     "output_type": "error",
     "traceback": [
      "\u001b[0;31m---------------------------------------------------------------------------\u001b[0m",
      "\u001b[0;31mNameError\u001b[0m                                 Traceback (most recent call last)",
      "Cell \u001b[0;32mIn[70], line 1\u001b[0m\n\u001b[0;32m----> 1\u001b[0m cdata \u001b[38;5;241m=\u001b[39m anon(df, \u001b[38;5;124m'\u001b[39m\u001b[38;5;124mname\u001b[39m\u001b[38;5;124m'\u001b[39m, \u001b[38;5;124m'\u001b[39m\u001b[38;5;124maddress\u001b[39m\u001b[38;5;124m'\u001b[39m, \u001b[38;5;124m'\u001b[39m\u001b[38;5;124mdk_DK\u001b[39m\u001b[38;5;124m'\u001b[39m, filename)\n\u001b[1;32m      2\u001b[0m cdata\n",
      "Cell \u001b[0;32mIn[66], line 6\u001b[0m, in \u001b[0;36manon\u001b[0;34m(df, attr1, attr2, lang, fname)\u001b[0m\n\u001b[1;32m      3\u001b[0m fake \u001b[38;5;241m=\u001b[39m Faker([lang])\n\u001b[1;32m      5\u001b[0m \u001b[38;5;66;03m# replace the original names with fake names\u001b[39;00m\n\u001b[0;32m----> 6\u001b[0m dict_fake \u001b[38;5;241m=\u001b[39m {{name: fake\u001b[38;5;241m.\u001b[39mname(), address: fake\u001b[38;5;241m.\u001b[39maddress()} \u001b[38;5;28;01mfor\u001b[39;00m name \u001b[38;5;129;01min\u001b[39;00m df[attr1]\u001b[38;5;241m.\u001b[39munique()}\n\u001b[1;32m      7\u001b[0m df[attr1] \u001b[38;5;241m=\u001b[39m df[attr1]\u001b[38;5;241m.\u001b[39mmap(dict_fake)\n\u001b[1;32m      9\u001b[0m \u001b[38;5;66;03m# save the coding in a file\u001b[39;00m\n",
      "\u001b[0;31mNameError\u001b[0m: name 'address' is not defined"
     ]
    }
   ],
   "source": [
    "cdata = anon(df, 'name', 'address', 'dk_DK', filename)\n",
    "cdata"
   ]
  },
  {
   "cell_type": "code",
   "execution_count": null,
   "id": "3154237d-f381-4f92-b2a9-4c7df87e53e1",
   "metadata": {},
   "outputs": [],
   "source": []
  }
 ],
 "metadata": {
  "kernelspec": {
   "display_name": "Python 3 (ipykernel)",
   "language": "python",
   "name": "python3"
  },
  "language_info": {
   "codemirror_mode": {
    "name": "ipython",
    "version": 3
   },
   "file_extension": ".py",
   "mimetype": "text/x-python",
   "name": "python",
   "nbconvert_exporter": "python",
   "pygments_lexer": "ipython3",
   "version": "3.12.4"
  }
 },
 "nbformat": 4,
 "nbformat_minor": 5
}
