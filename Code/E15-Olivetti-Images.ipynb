{
 "cells": [
  {
   "cell_type": "markdown",
   "id": "9a64e107-1cba-4d78-acb5-52c995bb52d3",
   "metadata": {},
   "source": [
    "# Olivetti Faces Dataset"
   ]
  },
  {
   "cell_type": "code",
   "execution_count": null,
   "id": "d9a92507-c586-4c26-8cfe-c4c125ee1676",
   "metadata": {},
   "outputs": [],
   "source": [
    "from sklearn import metrics\n",
    "from sklearn.metrics import silhouette_score\n",
    "from scipy.spatial.distance import cdist\n",
    "from yellowbrick.cluster import SilhouetteVisualizer"
   ]
  },
  {
   "cell_type": "markdown",
   "id": "680d0314-e86a-437c-93ce-e2e742d73d4b",
   "metadata": {},
   "source": [
    "The classic Olivetti faces dataset contains 400 grayscale 64 × 64–pixel images of faces. Each image is flattened to a 1D vector of size 4,096. 40 different people were photographed (10 times each), and the usual task is to train a model that can predict which person is represented in each picture. Load the dataset using the sklearn.datasets.fetch_olivetti_faces() function.\n",
    "http://www.cl.cam.ac.uk/research/dtg/attarchive/facedatabase.html \n",
    "https://github.com/ageron/handson-ml2/blob/master/09_unsupervised_learning.ipynb "
   ]
  },
  {
   "cell_type": "code",
   "execution_count": null,
   "id": "cc929543-9cf4-455c-9df5-08e01f1aa814",
   "metadata": {},
   "outputs": [],
   "source": [
    "from sklearn.datasets import fetch_olivetti_faces"
   ]
  },
  {
   "cell_type": "code",
   "execution_count": null,
   "id": "a69d451c-3c38-40af-8f98-0e891c0983d5",
   "metadata": {},
   "outputs": [],
   "source": [
    "olivetti = fetch_olivetti_faces()\n",
    "print(olivetti.DESCR)"
   ]
  },
  {
   "cell_type": "code",
   "execution_count": null,
   "id": "5e43a867-0ad5-4f7b-8858-ff2c9c822a2f",
   "metadata": {},
   "outputs": [],
   "source": [
    "olivetti"
   ]
  },
  {
   "cell_type": "markdown",
   "id": "e636d853-c89b-4650-84fb-5e0fe08e50f2",
   "metadata": {},
   "source": [
    "The \"target\" is an integer from 0 to 39 indicating the identity of the person pictured"
   ]
  },
  {
   "cell_type": "code",
   "execution_count": null,
   "id": "97417277-a446-4ea2-8cb9-c4579b45ccca",
   "metadata": {
    "scrolled": true
   },
   "outputs": [],
   "source": [
    "olivetti.target"
   ]
  },
  {
   "cell_type": "code",
   "execution_count": null,
   "id": "54e32ff2-fa59-45ec-a7f9-b24b3712b24c",
   "metadata": {},
   "outputs": [],
   "source": [
    "im = olivetti.images\n",
    "im[4]"
   ]
  },
  {
   "cell_type": "code",
   "execution_count": null,
   "id": "48532ee3-2a06-41ea-8f5a-d1aa883ced1f",
   "metadata": {},
   "outputs": [],
   "source": [
    "# Split the data\n",
    "from sklearn.model_selection import StratifiedShuffleSplit\n",
    "\n",
    "strat_split = StratifiedShuffleSplit(n_splits=1, test_size=40, random_state=42)\n",
    "\n",
    "train_valid_idx, test_idx = next(strat_split.split(olivetti.data, olivetti.target))\n",
    "X_train_valid = olivetti.data[train_valid_idx]\n",
    "y_train_valid = olivetti.target[train_valid_idx]\n",
    "X_test = olivetti.data[test_idx]\n",
    "y_test = olivetti.target[test_idx]\n",
    "\n",
    "strat_split = StratifiedShuffleSplit(n_splits=1, test_size=80, random_state=43)\n",
    "train_idx, valid_idx = next(strat_split.split(X_train_valid, y_train_valid))\n",
    "X_train = X_train_valid[train_idx]\n",
    "y_train = y_train_valid[train_idx]\n",
    "X_valid = X_train_valid[valid_idx]\n",
    "y_valid = y_train_valid[valid_idx]"
   ]
  },
  {
   "cell_type": "code",
   "execution_count": null,
   "id": "599e5c88-a2aa-4030-ab5c-184dd8983a81",
   "metadata": {},
   "outputs": [],
   "source": [
    "# reduce the data's dimensionality using PCA\n",
    "from sklearn.decomposition import PCA"
   ]
  },
  {
   "cell_type": "code",
   "execution_count": null,
   "id": "7ab75875-4a2b-4535-8504-dad281be35c2",
   "metadata": {},
   "outputs": [],
   "source": [
    "pca = PCA(0.99)\n",
    "# pca = PCA(n_components=200)\n",
    "X_train_pca = pca.fit_transform(X_train)\n",
    "X_valid_pca = pca.transform(X_valid)\n",
    "X_test_pca = pca.transform(X_test)"
   ]
  },
  {
   "cell_type": "code",
   "execution_count": null,
   "id": "cb66aa49-1e6b-4326-966b-20359861e30c",
   "metadata": {},
   "outputs": [],
   "source": [
    "pca.n_components_"
   ]
  },
  {
   "cell_type": "code",
   "execution_count": null,
   "id": "ae264b0d-a649-4d84-877e-9fb533cf2305",
   "metadata": {},
   "outputs": [],
   "source": [
    "# The PCA class contains explained variance  ratio, \n",
    "# which returns the variance caused by each of the principal components\n",
    "explained_variance = pca.explained_variance_ratio_  \n",
    "explained_variance"
   ]
  },
  {
   "cell_type": "code",
   "execution_count": null,
   "id": "19266fc9-9899-4c6e-a767-383ba706ba2a",
   "metadata": {},
   "outputs": [],
   "source": [
    "# Plot the explained_variance\n",
    "plt.plot(explained_variance, 'bx-', c='red')\n",
    "plt.xlabel('component')\n",
    "plt.ylabel('variance')\n",
    "plt.title('The optimal number of components')\n",
    "plt.show()"
   ]
  },
  {
   "cell_type": "code",
   "execution_count": null,
   "id": "48e4a688-993a-434b-92a2-275e11c724a8",
   "metadata": {},
   "outputs": [],
   "source": [
    "# Plot the cumulative explained_variance\n",
    "cumulative = np.cumsum(explained_variance)\n",
    "plt.plot(cumulative, 'b*-', c='green')\n",
    "plt.xlabel('components')\n",
    "plt.ylabel('cumulative')\n",
    "plt.title('The optimal number of components')\n",
    "plt.show()"
   ]
  },
  {
   "cell_type": "markdown",
   "id": "2c0418d3-9e34-4be0-a077-13e861d0f1fe",
   "metadata": {},
   "source": [
    "## Clustering"
   ]
  },
  {
   "cell_type": "code",
   "execution_count": null,
   "id": "93898e76-73c0-4ceb-acb7-054125df0ce3",
   "metadata": {},
   "outputs": [],
   "source": [
    "import numpy as np\n",
    "import pandas as pd\n",
    "import matplotlib.pyplot as plt"
   ]
  },
  {
   "cell_type": "code",
   "execution_count": null,
   "id": "7f68d78d-4296-4db4-a49e-f28fee8b57c0",
   "metadata": {},
   "outputs": [],
   "source": [
    "from sklearn.cluster import KMeans\n",
    "from sklearn.metrics import silhouette_score"
   ]
  },
  {
   "cell_type": "code",
   "execution_count": null,
   "id": "23f2728d-d70f-4191-a291-f4ab2ad6f941",
   "metadata": {},
   "outputs": [],
   "source": [
    "k_range = range(5, 200, 5)\n",
    "kmeans_per_k = []\n",
    "for k in k_range:\n",
    "    kmeans = KMeans(n_clusters=k, random_state=42).fit(X_train)\n",
    "    kmeans_per_k.append(kmeans)"
   ]
  },
  {
   "cell_type": "code",
   "execution_count": null,
   "id": "e829621e-43b8-446c-8038-418b813bd406",
   "metadata": {},
   "outputs": [],
   "source": [
    "silhouette_scores = [silhouette_score(X_train, model.labels_) \n",
    "                     for model in kmeans_per_k]"
   ]
  },
  {
   "cell_type": "code",
   "execution_count": null,
   "id": "d35b604a-cdb7-4b36-a0a7-d55ae8bc2e83",
   "metadata": {},
   "outputs": [],
   "source": [
    "best_index = np.argmax(silhouette_scores)\n",
    "best_k = k_range[best_index]\n",
    "best_score = silhouette_scores[best_index]"
   ]
  },
  {
   "cell_type": "code",
   "execution_count": null,
   "id": "3a80c3ca-4e0a-4311-9050-f4cf86803992",
   "metadata": {},
   "outputs": [],
   "source": [
    "plt.figure(figsize=(8, 3))\n",
    "plt.plot(k_range, silhouette_scores, \"bo-\")\n",
    "plt.xlabel(\"$k$\", fontsize=14)\n",
    "plt.ylabel(\"Silhouette score\", fontsize=14)\n",
    "plt.plot(best_k, best_score, \"rs\")\n",
    "plt.show()"
   ]
  },
  {
   "cell_type": "code",
   "execution_count": null,
   "id": "f6066414-0764-4b61-b2d7-f92fd2cb9a8e",
   "metadata": {},
   "outputs": [],
   "source": [
    "best_k"
   ]
  },
  {
   "cell_type": "code",
   "execution_count": null,
   "id": "03a9e675-4ee7-488c-b72c-7b5726b1b435",
   "metadata": {},
   "outputs": [],
   "source": [
    "best_model = kmeans_per_k[best_index]\n",
    "best_model"
   ]
  },
  {
   "cell_type": "code",
   "execution_count": null,
   "id": "4bb16cef-2279-4093-abdf-253a443406ed",
   "metadata": {},
   "outputs": [],
   "source": [
    "# Visualize the clusters: do you see similar faces in each cluster?\n",
    "def plot_faces(faces, labels, n_cols=10):\n",
    "    faces = faces.reshape(-1, 64, 64)\n",
    "    n_rows = (len(faces) - 1) // n_cols + 1\n",
    "    plt.figure(figsize=(n_cols, n_rows * 1.1))\n",
    "    for index, (face, label) in enumerate(zip(faces, labels)):\n",
    "        plt.subplot(n_rows, n_cols, index + 1)\n",
    "        plt.imshow(face, cmap=\"gray\")\n",
    "        plt.axis(\"off\")\n",
    "        plt.title(label)\n",
    "    plt.show()"
   ]
  },
  {
   "cell_type": "code",
   "execution_count": null,
   "id": "927c462a-354c-434f-ae72-a2cd93876137",
   "metadata": {},
   "outputs": [],
   "source": [
    "for cluster_id in np.unique(best_model.labels_):\n",
    "    print(\"Cluster\", cluster_id)\n",
    "    in_cluster = best_model.labels_==cluster_id\n",
    "    faces = X_train[in_cluster]\n",
    "    labels = y_train[in_cluster]\n",
    "    plot_faces(faces, labels)"
   ]
  },
  {
   "cell_type": "code",
   "execution_count": null,
   "id": "878bf2e2-686f-4f4c-9f42-438d6d159ae5",
   "metadata": {},
   "outputs": [],
   "source": [
    "score = silhouette_score(X_train, best_model.labels_, metric='euclidean')\n",
    "print('Silhouette Score: %.3f' % score)"
   ]
  },
  {
   "cell_type": "code",
   "execution_count": null,
   "id": "cdc19cb6-3b48-488a-9447-6907bf7d7042",
   "metadata": {},
   "outputs": [],
   "source": []
  }
 ],
 "metadata": {
  "kernelspec": {
   "display_name": "Python 3 (ipykernel)",
   "language": "python",
   "name": "python3"
  },
  "language_info": {
   "codemirror_mode": {
    "name": "ipython",
    "version": 3
   },
   "file_extension": ".py",
   "mimetype": "text/x-python",
   "name": "python",
   "nbconvert_exporter": "python",
   "pygments_lexer": "ipython3",
   "version": "3.12.4"
  }
 },
 "nbformat": 4,
 "nbformat_minor": 5
}
