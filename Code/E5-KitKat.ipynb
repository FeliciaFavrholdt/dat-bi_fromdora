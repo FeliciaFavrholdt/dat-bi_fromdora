{
 "cells": [
  {
   "cell_type": "code",
   "execution_count": 1,
   "id": "219ab540",
   "metadata": {},
   "outputs": [],
   "source": [
    "# Search for a library working with times\n",
    "# Search for library communicating with a web browser\n",
    "import time\n",
    "import webbrowser"
   ]
  },
  {
   "cell_type": "code",
   "execution_count": 2,
   "id": "f1ebf76b-2dc3-49bd-9756-29adc9bb99b6",
   "metadata": {},
   "outputs": [],
   "source": [
    "breaks = 3;    # Three breaks per day\n",
    "mybreaks = 0;  # Taken until now"
   ]
  },
  {
   "cell_type": "code",
   "execution_count": 3,
   "id": "4cefd02d-7e5a-44ec-a5a4-6bf0a7d1c7e1",
   "metadata": {},
   "outputs": [
    {
     "name": "stdout",
     "output_type": "stream",
     "text": [
      "program started on Fri Aug 23 02:27:03 2024\n"
     ]
    }
   ],
   "source": [
    "# now\n",
    "print(\"program started on \" + time.ctime())"
   ]
  },
  {
   "cell_type": "code",
   "execution_count": 6,
   "id": "73f5cf61",
   "metadata": {},
   "outputs": [],
   "source": [
    "while (mybreaks < breaks):\n",
    "    # time.sleep(1 * 60 * 60)\n",
    "    time.sleep(1 * 20)\n",
    "    mybreaks += 1\n",
    "    webbrowser.open(\"<your youtube link here>\")\n"
   ]
  },
  {
   "cell_type": "code",
   "execution_count": null,
   "id": "2b677ee9",
   "metadata": {},
   "outputs": [],
   "source": []
  }
 ],
 "metadata": {
  "kernelspec": {
   "display_name": "Python 3 (ipykernel)",
   "language": "python",
   "name": "python3"
  },
  "language_info": {
   "codemirror_mode": {
    "name": "ipython",
    "version": 3
   },
   "file_extension": ".py",
   "mimetype": "text/x-python",
   "name": "python",
   "nbconvert_exporter": "python",
   "pygments_lexer": "ipython3",
   "version": "3.12.4"
  }
 },
 "nbformat": 4,
 "nbformat_minor": 5
}
