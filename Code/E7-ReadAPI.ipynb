{
 "cells": [
  {
   "cell_type": "markdown",
   "id": "7457d4e8",
   "metadata": {},
   "source": [
    "# Read API\n",
    "Requires mandatory parameters 'parameters' and 'headers'."
   ]
  },
  {
   "cell_type": "code",
   "execution_count": 1,
   "id": "18841ae3",
   "metadata": {},
   "outputs": [
    {
     "name": "stdout",
     "output_type": "stream",
     "text": [
      "Writing readapi.py\n"
     ]
    }
   ],
   "source": [
    "%%writefile readapi.py\n",
    "import os\n",
    "import json\n",
    "import requests\n",
    "import pprint\n",
    "\n",
    "def readAPI(url, params, headers, filename):  \n",
    "    list = []\n",
    "    response = requests.get(url, params=params, headers=headers).json()\n",
    "    list.append(response)\n",
    "    \n",
    "    # save in json file        \n",
    "    with open(filename, 'w') as f:\n",
    "        json.dump(list,f)\n",
    "            #text = json.loads(response.text)\n",
    "            #pretty = pprint.pformat(text).replace(\"'\", '\"')\n",
    "            #f.write(pretty)\n",
    " \n"
   ]
  },
  {
   "cell_type": "markdown",
   "id": "4af71fa4",
   "metadata": {},
   "source": [
    "## Test"
   ]
  },
  {
   "cell_type": "code",
   "execution_count": 5,
   "id": "1f7ea23e",
   "metadata": {},
   "outputs": [
    {
     "data": {
      "text/plain": [
       "<module 'readapi' from '/Users/tdi/Documents/GitHub/dat2023fall-bi/code/readapi.py'>"
      ]
     },
     "execution_count": 5,
     "metadata": {},
     "output_type": "execute_result"
    }
   ],
   "source": [
    "import importlib \n",
    "importlib.reload(readapi)"
   ]
  },
  {
   "cell_type": "code",
   "execution_count": 6,
   "id": "c7da494a",
   "metadata": {},
   "outputs": [],
   "source": [
    "import readapi\n",
    "from readapi import readAPI"
   ]
  },
  {
   "cell_type": "code",
   "execution_count": 23,
   "id": "7055df4f-2ed1-490d-b96c-35c3647e62e8",
   "metadata": {},
   "outputs": [],
   "source": [
    "import pandas as pd\n",
    "import json"
   ]
  },
  {
   "cell_type": "code",
   "execution_count": 7,
   "id": "8629e80c",
   "metadata": {},
   "outputs": [],
   "source": [
    "# Use CVR API\n",
    "# Search by CVR (vat), name (name), phone (phone) or production unit (produ) - key\n",
    "# Cphbusiness cvr(31678021)"
   ]
  },
  {
   "cell_type": "code",
   "execution_count": 8,
   "id": "a2e28bde",
   "metadata": {},
   "outputs": [],
   "source": [
    "# the name of the company\n",
    "company = \"Cphbusiness\""
   ]
  },
  {
   "cell_type": "code",
   "execution_count": null,
   "id": "bea41494-dc57-4ad8-9b83-f858e13574c1",
   "metadata": {},
   "outputs": [],
   "source": [
    "# user identification (alias)\n",
    "user = <your alias here>"
   ]
  },
  {
   "cell_type": "code",
   "execution_count": 12,
   "id": "5489524f",
   "metadata": {},
   "outputs": [],
   "source": [
    "url='http://cvrapi.dk/api'  \n",
    "params = {'search':company, 'country':'DK'}\n",
    "headers = {'User-Agent': user}"
   ]
  },
  {
   "cell_type": "code",
   "execution_count": 13,
   "id": "e2b45352",
   "metadata": {},
   "outputs": [],
   "source": [
    "# The response from the API reader is stored in a file as JSON object\n",
    "filename = '/Users/tdi/Documents/Holodeck/Holodeck/Data/apitest.json'"
   ]
  },
  {
   "cell_type": "code",
   "execution_count": 14,
   "id": "379c183c",
   "metadata": {},
   "outputs": [],
   "source": [
    "response = readAPI(url, params, headers, filename)\n",
    "response"
   ]
  },
  {
   "cell_type": "markdown",
   "id": "b9cca262-6965-4087-bbfc-a0e6f65945ab",
   "metadata": {},
   "source": [
    "## Store in DataFrame"
   ]
  },
  {
   "cell_type": "code",
   "execution_count": 40,
   "id": "d029bc70",
   "metadata": {},
   "outputs": [],
   "source": [
    "df = pd.read_json(filename)"
   ]
  },
  {
   "cell_type": "code",
   "execution_count": 41,
   "id": "fec1cb1b-91c4-446f-b946-483ac2ce19c5",
   "metadata": {},
   "outputs": [
    {
     "data": {
      "text/html": [
       "<div>\n",
       "<style scoped>\n",
       "    .dataframe tbody tr th:only-of-type {\n",
       "        vertical-align: middle;\n",
       "    }\n",
       "\n",
       "    .dataframe tbody tr th {\n",
       "        vertical-align: top;\n",
       "    }\n",
       "\n",
       "    .dataframe thead th {\n",
       "        text-align: right;\n",
       "    }\n",
       "</style>\n",
       "<table border=\"1\" class=\"dataframe\">\n",
       "  <thead>\n",
       "    <tr style=\"text-align: right;\">\n",
       "      <th></th>\n",
       "      <th>vat</th>\n",
       "      <th>name</th>\n",
       "      <th>address</th>\n",
       "      <th>zipcode</th>\n",
       "      <th>city</th>\n",
       "      <th>cityname</th>\n",
       "      <th>protected</th>\n",
       "      <th>phone</th>\n",
       "      <th>email</th>\n",
       "      <th>fax</th>\n",
       "      <th>...</th>\n",
       "      <th>industrydesc</th>\n",
       "      <th>companycode</th>\n",
       "      <th>companydesc</th>\n",
       "      <th>creditstartdate</th>\n",
       "      <th>creditbankrupt</th>\n",
       "      <th>creditstatus</th>\n",
       "      <th>owners</th>\n",
       "      <th>productionunits</th>\n",
       "      <th>t</th>\n",
       "      <th>version</th>\n",
       "    </tr>\n",
       "  </thead>\n",
       "  <tbody>\n",
       "    <tr>\n",
       "      <th>0</th>\n",
       "      <td>35358323</td>\n",
       "      <td>Cphbusiness Studenterforening</td>\n",
       "      <td>Nansensgade 19, st</td>\n",
       "      <td>1366</td>\n",
       "      <td>København K</td>\n",
       "      <td>NaN</td>\n",
       "      <td>True</td>\n",
       "      <td>36154500</td>\n",
       "      <td>students@cphbusiness.dk</td>\n",
       "      <td>NaN</td>\n",
       "      <td>...</td>\n",
       "      <td>Andre organisationer og foreninger i.a.n.</td>\n",
       "      <td>115</td>\n",
       "      <td>Frivillig forening</td>\n",
       "      <td>NaN</td>\n",
       "      <td>False</td>\n",
       "      <td>NaN</td>\n",
       "      <td>NaN</td>\n",
       "      <td>[{'pno': 1018893831, 'main': False, 'name': 'C...</td>\n",
       "      <td>100</td>\n",
       "      <td>6</td>\n",
       "    </tr>\n",
       "  </tbody>\n",
       "</table>\n",
       "<p>1 rows × 25 columns</p>\n",
       "</div>"
      ],
      "text/plain": [
       "        vat                           name             address  zipcode  \\\n",
       "0  35358323  Cphbusiness Studenterforening  Nansensgade 19, st     1366   \n",
       "\n",
       "          city  cityname  protected     phone                    email  fax  \\\n",
       "0  København K       NaN       True  36154500  students@cphbusiness.dk  NaN   \n",
       "\n",
       "   ...                               industrydesc  companycode  \\\n",
       "0  ...  Andre organisationer og foreninger i.a.n.          115   \n",
       "\n",
       "          companydesc creditstartdate  creditbankrupt creditstatus  owners  \\\n",
       "0  Frivillig forening             NaN           False          NaN     NaN   \n",
       "\n",
       "                                     productionunits    t  version  \n",
       "0  [{'pno': 1018893831, 'main': False, 'name': 'C...  100        6  \n",
       "\n",
       "[1 rows x 25 columns]"
      ]
     },
     "execution_count": 41,
     "metadata": {},
     "output_type": "execute_result"
    }
   ],
   "source": [
    "df"
   ]
  },
  {
   "cell_type": "code",
   "execution_count": null,
   "id": "7a831f0f-88a1-4810-9168-a7dcdcfa6771",
   "metadata": {},
   "outputs": [],
   "source": []
  }
 ],
 "metadata": {
  "kernelspec": {
   "display_name": "Python 3 (ipykernel)",
   "language": "python",
   "name": "python3"
  },
  "language_info": {
   "codemirror_mode": {
    "name": "ipython",
    "version": 3
   },
   "file_extension": ".py",
   "mimetype": "text/x-python",
   "name": "python",
   "nbconvert_exporter": "python",
   "pygments_lexer": "ipython3",
   "version": "3.12.4"
  }
 },
 "nbformat": 4,
 "nbformat_minor": 5
}
