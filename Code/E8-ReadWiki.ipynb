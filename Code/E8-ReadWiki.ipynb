{
 "cells": [
  {
   "cell_type": "markdown",
   "id": "d0d229cc",
   "metadata": {},
   "source": [
    "# Search Web and Read Wikipedia"
   ]
  },
  {
   "cell_type": "code",
   "execution_count": null,
   "id": "41c9c4dd",
   "metadata": {},
   "outputs": [],
   "source": [
    "#!pip install wikipedia"
   ]
  },
  {
   "cell_type": "code",
   "execution_count": null,
   "id": "9ce12dfa-f29f-4180-94e6-2c70b8aaaa98",
   "metadata": {},
   "outputs": [],
   "source": [
    "#!pip install googlesearch-python"
   ]
  },
  {
   "cell_type": "code",
   "execution_count": 106,
   "id": "9dc60d35",
   "metadata": {},
   "outputs": [],
   "source": [
    "import requests\n",
    "import pandas as pd"
   ]
  },
  {
   "cell_type": "code",
   "execution_count": 107,
   "id": "5d3770b0",
   "metadata": {},
   "outputs": [
    {
     "name": "stdout",
     "output_type": "stream",
     "text": [
      "Overwriting readwiki.py\n"
     ]
    }
   ],
   "source": [
    "%%writefile readwiki.py\n",
    "import wikipedia\n",
    "from googlesearch import search\n",
    "#  Read the main page\n",
    "def readWiki(subject, lang, n):\n",
    "    result = []\n",
    "    wdict = {}\n",
    "    wikipedia.set_lang(lang)\n",
    "    \n",
    "    wsum = wikipedia.summary(subject, sentences=n)\n",
    "    \n",
    "    wpage = wikipedia.page(subject)   \n",
    "    wtext = wpage.content\n",
    "    whtml = wpage.html\n",
    "    wlinks = wpage.links[0:n]\n",
    "    \n",
    "    wdict = {'url': wpage.url, 'title':wpage.title, 'summary': wsum, 'links':wlinks, 'html':whtml }\n",
    "    \n",
    "    result.append(wdict)\n",
    "    result.append(wtext)\n",
    "    return result\n",
    "\n",
    "# Read related pages that reference the main search\n",
    "from googlesearch import search\n",
    "def browseWeb(subject, lang, num): \n",
    "    list = []\n",
    "    for i in search(subject, num_results=num, lang=lang, advanced=True):\n",
    "        list.append(i)\n",
    "    return list\n"
   ]
  },
  {
   "cell_type": "markdown",
   "id": "ea0b94c9",
   "metadata": {},
   "source": [
    "## Test the Functions"
   ]
  },
  {
   "cell_type": "code",
   "execution_count": 108,
   "id": "c7da494a",
   "metadata": {},
   "outputs": [],
   "source": [
    "import readwiki\n",
    "from readwiki import readWiki, browseWeb"
   ]
  },
  {
   "cell_type": "code",
   "execution_count": 109,
   "id": "1f7ea23e",
   "metadata": {},
   "outputs": [
    {
     "data": {
      "text/plain": [
       "<module 'readwiki' from '/Users/tdi/Documents/Holodeck/Project/Reader/readwiki.py'>"
      ]
     },
     "execution_count": 109,
     "metadata": {},
     "output_type": "execute_result"
    }
   ],
   "source": [
    "import importlib \n",
    "importlib.reload(readwiki)"
   ]
  },
  {
   "cell_type": "code",
   "execution_count": 110,
   "id": "090e825e",
   "metadata": {},
   "outputs": [],
   "source": [
    "# select the subject\n",
    "#subject = 'Copenhagen Business Academy'\n",
    "subject = \"Trump\""
   ]
  },
  {
   "cell_type": "markdown",
   "id": "830d3eb6-c599-4876-9eac-3dbb66847ef2",
   "metadata": {},
   "source": [
    "### Test Wikipedia Search"
   ]
  },
  {
   "cell_type": "code",
   "execution_count": 111,
   "id": "c325d4a0",
   "metadata": {},
   "outputs": [],
   "source": [
    "# subject = pd.DataFrame(tab.name)"
   ]
  },
  {
   "cell_type": "code",
   "execution_count": 112,
   "id": "dcdbfd0f",
   "metadata": {},
   "outputs": [],
   "source": [
    "result = readWiki(subject, 'en', 5)"
   ]
  },
  {
   "cell_type": "code",
   "execution_count": 113,
   "id": "90ec92fa-0a60-4d4f-9d8b-c48501dee1a0",
   "metadata": {},
   "outputs": [
    {
     "data": {
      "text/plain": [
       "{'url': 'https://en.wikipedia.org/wiki/Trumpet',\n",
       " 'title': 'Trumpet',\n",
       " 'summary': 'The trumpet is a brass instrument commonly used in classical and jazz ensembles. The trumpet group ranges from the piccolo trumpet—with the highest register in the brass family—to the bass trumpet, pitched one octave below the standard B♭ or C trumpet.\\nTrumpet-like instruments have historically been used as signaling devices in battle or hunting, with examples dating back to at least 2000 BC. They began to be used as musical instruments only in the late 14th or early 15th century. Trumpets are used in art music styles, for instance in orchestras, concert bands, and jazz ensembles, as well as in popular music. Sound is produced by vibrating the lips in a mouthpiece, which starts a standing wave in the air column of the instrument.',\n",
       " 'links': ['12-tone equal temperament',\n",
       "  'Adrian Willaert',\n",
       "  'Aerophone',\n",
       "  \"Aesop's fables\",\n",
       "  'Alexander Agricola'],\n",
       " 'html': <bound method WikipediaPage.html of <WikipediaPage 'Trumpet'>>}"
      ]
     },
     "execution_count": 113,
     "metadata": {},
     "output_type": "execute_result"
    }
   ],
   "source": [
    "result[0]"
   ]
  },
  {
   "cell_type": "code",
   "execution_count": 114,
   "id": "d93c4a32",
   "metadata": {},
   "outputs": [
    {
     "data": {
      "text/plain": [
       "'https://en.wikipedia.org/wiki/Trumpet'"
      ]
     },
     "execution_count": 114,
     "metadata": {},
     "output_type": "execute_result"
    }
   ],
   "source": [
    "result[0]['url']"
   ]
  },
  {
   "cell_type": "code",
   "execution_count": 115,
   "id": "e1c2b2a3",
   "metadata": {},
   "outputs": [
    {
     "data": {
      "text/plain": [
       "['12-tone equal temperament',\n",
       " 'Adrian Willaert',\n",
       " 'Aerophone',\n",
       " \"Aesop's fables\",\n",
       " 'Alexander Agricola']"
      ]
     },
     "execution_count": 115,
     "metadata": {},
     "output_type": "execute_result"
    }
   ],
   "source": [
    "result[0]['links']"
   ]
  },
  {
   "cell_type": "code",
   "execution_count": 116,
   "id": "a994c36b",
   "metadata": {},
   "outputs": [
    {
     "data": {
      "text/plain": [
       "'The trumpet is a brass instrument commonly used in classical and jazz ensembles. The trumpet group ranges from the piccolo trumpet—with the highest register in the brass family—to the bass trumpet, pitched one octave below the standard B♭ or C trumpet.\\nTrumpet-like instruments have historically been used as signaling devices in battle or hunting, with examples dating back to at least 2000 BC. They began to be used as musical instruments only in the late 14th or early 15th century. Trumpets are used in art music styles, for instance in orchestras, concert bands, and jazz ensembles, as well as in popular music. Sound is produced by vibrating the lips in a mouthpiece, which starts a standing wave in the air column of the instrument.'"
      ]
     },
     "execution_count": 116,
     "metadata": {},
     "output_type": "execute_result"
    }
   ],
   "source": [
    "result[0]['summary']"
   ]
  },
  {
   "cell_type": "markdown",
   "id": "3aecdeb2-97e5-4ae9-89b7-236e6ac6c9a8",
   "metadata": {},
   "source": [
    "### Test Google Search"
   ]
  },
  {
   "cell_type": "code",
   "execution_count": 117,
   "id": "da9be317-ca16-47e5-af81-9eb9abe3e0a3",
   "metadata": {},
   "outputs": [],
   "source": [
    "links = browseWeb(subject, 'en', 10)"
   ]
  },
  {
   "cell_type": "code",
   "execution_count": 118,
   "id": "da890797",
   "metadata": {},
   "outputs": [
    {
     "data": {
      "text/plain": [
       "10"
      ]
     },
     "execution_count": 118,
     "metadata": {},
     "output_type": "execute_result"
    }
   ],
   "source": [
    "len(links)"
   ]
  },
  {
   "cell_type": "code",
   "execution_count": 122,
   "id": "9f44cfaf-2988-47be-94a2-f68541caaab4",
   "metadata": {},
   "outputs": [
    {
     "data": {
      "text/plain": [
       "SearchResult(url=https://www.theguardian.com/us-news/donaldtrump, title=Donald Trump, description=4 minutes ago — News about Donald Trump, the 45th US president, including comment and features from the Guardian.)"
      ]
     },
     "execution_count": 122,
     "metadata": {},
     "output_type": "execute_result"
    }
   ],
   "source": [
    "links[0]"
   ]
  },
  {
   "cell_type": "code",
   "execution_count": 121,
   "id": "9c623516",
   "metadata": {},
   "outputs": [
    {
     "name": "stdout",
     "output_type": "stream",
     "text": [
      "0. https://www.theguardian.com/us-news/donaldtrump\n",
      "1. https://trumpwhitehouse.archives.gov/people/donald-j-trump/\n",
      "2. https://www.cnn.com/2024/08/27/politics/trump-superseding-indictment-january-6/index.html\n",
      "3. https://www.facebook.com/DonaldTrump/\n",
      "4. https://www.npr.org/2024/08/27/nx-s1-5091154/trump-arlington-cemetery\n",
      "5. https://www.instagram.com/realdonaldtrump/?hl=en\n",
      "6. https://abcnews.go.com/alerts/donald-trump\n",
      "7. https://www.cnn.com/politics/president-donald-trump-45\n",
      "8. https://www.cnn.com/politics/president-donald-trump-45\n",
      "9. https://www.independent.co.uk/topic/donald-trump\n"
     ]
    }
   ],
   "source": [
    "for num in range(len(links)):\n",
    "      print(f\"{num}. {links[num].url}\")"
   ]
  },
  {
   "cell_type": "markdown",
   "id": "5f58222d-9e83-4bef-ae88-bb79611dbe20",
   "metadata": {},
   "source": [
    "## Store Search Results in DataFrame"
   ]
  },
  {
   "cell_type": "code",
   "execution_count": 139,
   "id": "04ac2a14-41df-494f-8788-ecf621b692d6",
   "metadata": {},
   "outputs": [],
   "source": [
    "df = pd.DataFrame(columns = ['url', 'title', 'description'])"
   ]
  },
  {
   "cell_type": "code",
   "execution_count": 140,
   "id": "2bf03edb",
   "metadata": {},
   "outputs": [],
   "source": [
    "#add rows to df\n",
    "for index in range(len(links)):\n",
    "    df.loc[len(df.index)] = [links[index].url, links[index].title, links[index].description ]"
   ]
  },
  {
   "cell_type": "code",
   "execution_count": 141,
   "id": "2bcf5fd9-b4aa-4e16-a0a2-65461fd85ebd",
   "metadata": {},
   "outputs": [
    {
     "data": {
      "text/html": [
       "<div>\n",
       "<style scoped>\n",
       "    .dataframe tbody tr th:only-of-type {\n",
       "        vertical-align: middle;\n",
       "    }\n",
       "\n",
       "    .dataframe tbody tr th {\n",
       "        vertical-align: top;\n",
       "    }\n",
       "\n",
       "    .dataframe thead th {\n",
       "        text-align: right;\n",
       "    }\n",
       "</style>\n",
       "<table border=\"1\" class=\"dataframe\">\n",
       "  <thead>\n",
       "    <tr style=\"text-align: right;\">\n",
       "      <th></th>\n",
       "      <th>url</th>\n",
       "      <th>title</th>\n",
       "      <th>description</th>\n",
       "    </tr>\n",
       "  </thead>\n",
       "  <tbody>\n",
       "    <tr>\n",
       "      <th>0</th>\n",
       "      <td>https://www.theguardian.com/us-news/donaldtrump</td>\n",
       "      <td>Donald Trump</td>\n",
       "      <td>4 minutes ago — News about Donald Trump, the 4...</td>\n",
       "    </tr>\n",
       "    <tr>\n",
       "      <th>1</th>\n",
       "      <td>https://trumpwhitehouse.archives.gov/people/do...</td>\n",
       "      <td>Donald J. Trump – The White House - National A...</td>\n",
       "      <td>He received the votes of more than 62 million ...</td>\n",
       "    </tr>\n",
       "    <tr>\n",
       "      <th>2</th>\n",
       "      <td>https://www.cnn.com/2024/08/27/politics/trump-...</td>\n",
       "      <td>Special counsel files reworked indictment agai...</td>\n",
       "      <td>3 hours ago — Special counsel Jack Smith on Tu...</td>\n",
       "    </tr>\n",
       "    <tr>\n",
       "      <th>3</th>\n",
       "      <td>https://www.facebook.com/DonaldTrump/</td>\n",
       "      <td>Donald J. Trump</td>\n",
       "      <td>Donald J. Trump. 32515369 likes · 1075507 talk...</td>\n",
       "    </tr>\n",
       "    <tr>\n",
       "      <th>4</th>\n",
       "      <td>https://www.npr.org/2024/08/27/nx-s1-5091154/t...</td>\n",
       "      <td>Trump campaign staff had altercation with offi...</td>\n",
       "      <td>2 hours ago — The cemetery official tried to p...</td>\n",
       "    </tr>\n",
       "    <tr>\n",
       "      <th>5</th>\n",
       "      <td>https://www.instagram.com/realdonaldtrump/?hl=en</td>\n",
       "      <td>President Donald J. Trump (@realdonaldtrump)</td>\n",
       "      <td>26M Followers, 47 Following, 6935 Posts - Pres...</td>\n",
       "    </tr>\n",
       "    <tr>\n",
       "      <th>6</th>\n",
       "      <td>https://abcnews.go.com/alerts/donald-trump</td>\n",
       "      <td>Donald Trump News &amp; Videos - ABC News</td>\n",
       "      <td>6 hours ago — Follow the latest Donald Trump n...</td>\n",
       "    </tr>\n",
       "    <tr>\n",
       "      <th>7</th>\n",
       "      <td>https://www.cnn.com/politics/president-donald-...</td>\n",
       "      <td>Donald J. Trump news</td>\n",
       "      <td>News on former President Donald Trump and the ...</td>\n",
       "    </tr>\n",
       "    <tr>\n",
       "      <th>8</th>\n",
       "      <td>https://www.cnn.com/politics/president-donald-...</td>\n",
       "      <td>Donald J. Trump news</td>\n",
       "      <td>News on former President Donald Trump and the ...</td>\n",
       "    </tr>\n",
       "    <tr>\n",
       "      <th>9</th>\n",
       "      <td>https://www.independent.co.uk/topic/donald-trump</td>\n",
       "      <td>Trump news | Latest updates | Trial news | 202...</td>\n",
       "      <td>6 hours ago — Donald Trump. Latest news. Forme...</td>\n",
       "    </tr>\n",
       "  </tbody>\n",
       "</table>\n",
       "</div>"
      ],
      "text/plain": [
       "                                                 url  \\\n",
       "0    https://www.theguardian.com/us-news/donaldtrump   \n",
       "1  https://trumpwhitehouse.archives.gov/people/do...   \n",
       "2  https://www.cnn.com/2024/08/27/politics/trump-...   \n",
       "3              https://www.facebook.com/DonaldTrump/   \n",
       "4  https://www.npr.org/2024/08/27/nx-s1-5091154/t...   \n",
       "5   https://www.instagram.com/realdonaldtrump/?hl=en   \n",
       "6         https://abcnews.go.com/alerts/donald-trump   \n",
       "7  https://www.cnn.com/politics/president-donald-...   \n",
       "8  https://www.cnn.com/politics/president-donald-...   \n",
       "9   https://www.independent.co.uk/topic/donald-trump   \n",
       "\n",
       "                                               title  \\\n",
       "0                                       Donald Trump   \n",
       "1  Donald J. Trump – The White House - National A...   \n",
       "2  Special counsel files reworked indictment agai...   \n",
       "3                                    Donald J. Trump   \n",
       "4  Trump campaign staff had altercation with offi...   \n",
       "5       President Donald J. Trump (@realdonaldtrump)   \n",
       "6              Donald Trump News & Videos - ABC News   \n",
       "7                               Donald J. Trump news   \n",
       "8                               Donald J. Trump news   \n",
       "9  Trump news | Latest updates | Trial news | 202...   \n",
       "\n",
       "                                         description  \n",
       "0  4 minutes ago — News about Donald Trump, the 4...  \n",
       "1  He received the votes of more than 62 million ...  \n",
       "2  3 hours ago — Special counsel Jack Smith on Tu...  \n",
       "3  Donald J. Trump. 32515369 likes · 1075507 talk...  \n",
       "4  2 hours ago — The cemetery official tried to p...  \n",
       "5  26M Followers, 47 Following, 6935 Posts - Pres...  \n",
       "6  6 hours ago — Follow the latest Donald Trump n...  \n",
       "7  News on former President Donald Trump and the ...  \n",
       "8  News on former President Donald Trump and the ...  \n",
       "9  6 hours ago — Donald Trump. Latest news. Forme...  "
      ]
     },
     "execution_count": 141,
     "metadata": {},
     "output_type": "execute_result"
    }
   ],
   "source": [
    "df"
   ]
  },
  {
   "cell_type": "code",
   "execution_count": null,
   "id": "b867d9af-f871-4477-afbb-65d80680f53e",
   "metadata": {},
   "outputs": [],
   "source": []
  }
 ],
 "metadata": {
  "kernelspec": {
   "display_name": "Python 3 (ipykernel)",
   "language": "python",
   "name": "python3"
  },
  "language_info": {
   "codemirror_mode": {
    "name": "ipython",
    "version": 3
   },
   "file_extension": ".py",
   "mimetype": "text/x-python",
   "name": "python",
   "nbconvert_exporter": "python",
   "pygments_lexer": "ipython3",
   "version": "3.12.4"
  }
 },
 "nbformat": 4,
 "nbformat_minor": 5
}
