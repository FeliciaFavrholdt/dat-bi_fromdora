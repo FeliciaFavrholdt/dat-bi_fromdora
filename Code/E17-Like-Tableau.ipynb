{
 "cells": [
  {
   "cell_type": "markdown",
   "id": "9beeb6af-7c4e-4284-94c8-e5b66e3d4f79",
   "metadata": {},
   "source": [
    "# With PyGWalker Like In Tableau\n",
    "from https://medium.com/@HeCanThink/pygwalker-a-graphic-walkthrough-of-tableau-style-user-interface-in-jupyter-python-15674be950bb"
   ]
  },
  {
   "cell_type": "code",
   "execution_count": null,
   "id": "9bb6861c-c7a3-4a3e-b25f-1aee5ca64413",
   "metadata": {},
   "outputs": [],
   "source": [
    " !pip install pygwalker --upgrade --pre"
   ]
  },
  {
   "cell_type": "code",
   "execution_count": null,
   "id": "578efd1d-c31b-4b03-aa40-0cece1708fec",
   "metadata": {},
   "outputs": [],
   "source": [
    "import pygwalker as pyg\n",
    "import pandas as pd"
   ]
  },
  {
   "cell_type": "markdown",
   "id": "c3da77dc-2225-424b-a1d8-3275ecc18234",
   "metadata": {},
   "source": [
    "## Data"
   ]
  },
  {
   "cell_type": "code",
   "execution_count": null,
   "id": "c17770e0-caea-4180-a9fd-2f8552d5e07d",
   "metadata": {},
   "outputs": [],
   "source": [
    "df = pd.read_csv(\"/Users/tdi/Data/bike_sharing_dc.csv\")\n",
    "df.head(5)"
   ]
  },
  {
   "cell_type": "code",
   "execution_count": null,
   "id": "26486165-fcc3-4c33-8f4e-a716294b04b2",
   "metadata": {},
   "outputs": [],
   "source": [
    "df.shape"
   ]
  },
  {
   "cell_type": "markdown",
   "id": "d3048d08-3e84-411a-b696-2f83c91992aa",
   "metadata": {},
   "source": [
    "## Interface"
   ]
  },
  {
   "cell_type": "code",
   "execution_count": null,
   "id": "37be3970-a000-46d0-9cb4-7850516457ef",
   "metadata": {},
   "outputs": [],
   "source": [
    "walker = pyg.walk(df)"
   ]
  },
  {
   "cell_type": "markdown",
   "id": "8558177b-a60a-450f-ab67-e777533a06d5",
   "metadata": {},
   "source": [
    "### Change the mark type"
   ]
  },
  {
   "cell_type": "markdown",
   "id": "7eed1e46-b818-4aef-8728-b536889760dd",
   "metadata": {},
   "source": [
    "### Create a concat view by adding more than one measure into rows/columns"
   ]
  },
  {
   "cell_type": "markdown",
   "id": "e5f71b35-642b-4f0c-a97a-72638ca6973c",
   "metadata": {},
   "source": [
    "### View the data frame in a table"
   ]
  },
  {
   "cell_type": "markdown",
   "id": "19dc03fe-05c8-414c-b8cc-8e82e04c2814",
   "metadata": {},
   "source": [
    "### Store the diagram status and show it in another Streamlit application"
   ]
  },
  {
   "cell_type": "code",
   "execution_count": null,
   "id": "e175c379-e6a9-445d-826e-48aa65e44a79",
   "metadata": {},
   "outputs": [],
   "source": []
  }
 ],
 "metadata": {
  "kernelspec": {
   "display_name": "Python 3 (ipykernel)",
   "language": "python",
   "name": "python3"
  },
  "language_info": {
   "codemirror_mode": {
    "name": "ipython",
    "version": 3
   },
   "file_extension": ".py",
   "mimetype": "text/x-python",
   "name": "python",
   "nbconvert_exporter": "python",
   "pygments_lexer": "ipython3",
   "version": "3.12.4"
  }
 },
 "nbformat": 4,
 "nbformat_minor": 5
}
