{
 "cells": [
  {
   "cell_type": "markdown",
   "id": "46cc324f-841a-41df-9b31-2970e9f558af",
   "metadata": {},
   "source": [
    "# Image Load and Analysis\n",
    "Uses Ollama LLM and OCR"
   ]
  },
  {
   "cell_type": "markdown",
   "id": "89217131-0f2f-4cee-88b6-491ec35966bf",
   "metadata": {},
   "source": [
    "Download Ollama from its home page https://ollama.com and follow the instructions to run it on your computer. <br>\n",
    "For working with images, download and run the model __llama3.2-vision__ "
   ]
  },
  {
   "cell_type": "code",
   "execution_count": null,
   "id": "afb30bd4-7014-4f9c-8159-8751953b7e4e",
   "metadata": {},
   "outputs": [],
   "source": [
    "# !ollama pull llama3.2-vision:11b"
   ]
  },
  {
   "cell_type": "code",
   "execution_count": null,
   "id": "5683ca9c-1e1e-4f47-b680-2339ddf98595",
   "metadata": {},
   "outputs": [],
   "source": [
    "# !pip install ollama-ocr"
   ]
  },
  {
   "cell_type": "code",
   "execution_count": null,
   "id": "b3332984-a6a1-4228-a54d-942a05116499",
   "metadata": {},
   "outputs": [],
   "source": [
    "import ollama\n",
    "from ollama import chat\n",
    "from ollama_ocr import OCRProcessor"
   ]
  },
  {
   "cell_type": "code",
   "execution_count": null,
   "id": "60933281-5668-4af9-ac49-d74b719b72a4",
   "metadata": {},
   "outputs": [],
   "source": [
    "import os"
   ]
  },
  {
   "cell_type": "code",
   "execution_count": null,
   "id": "436870be-6412-4d8c-8370-edb684ba8595",
   "metadata": {},
   "outputs": [],
   "source": [
    "# for visualisation\n",
    "from IPython.display import Image, display, Markdown"
   ]
  },
  {
   "cell_type": "code",
   "execution_count": null,
   "id": "778a539d-0790-4417-b262-c90c6bfb8370",
   "metadata": {},
   "outputs": [],
   "source": [
    "llm = 'llama3.2-vision'"
   ]
  },
  {
   "cell_type": "code",
   "execution_count": null,
   "id": "e35e817b-1fd8-4e09-a814-62bc7279da3e",
   "metadata": {},
   "outputs": [],
   "source": [
    "path = '/Users/tdi/Documents/Teaching/BI/2025/Images/'"
   ]
  },
  {
   "cell_type": "markdown",
   "id": "9f525577-35f4-4165-aa1c-7882c3aef0ac",
   "metadata": {},
   "source": [
    "## Case 1: Download and Explain an Image"
   ]
  },
  {
   "cell_type": "code",
   "execution_count": null,
   "id": "4ab6a4ce-001a-4825-9728-0b1562e9fa3a",
   "metadata": {},
   "outputs": [],
   "source": [
    "def explain(path):\n",
    "    response = ollama.chat(\n",
    "        model=llm, \n",
    "        messages=[{\n",
    "            'role': 'user',\n",
    "            'content': 'Can you explain what is on this image?',\n",
    "            'images': [path]\n",
    "        }]\n",
    "    )\n",
    "    return response.message.content"
   ]
  },
  {
   "cell_type": "markdown",
   "id": "3da38b5b-662d-46bd-8689-c0927d5a25c7",
   "metadata": {},
   "source": [
    "### Test"
   ]
  },
  {
   "cell_type": "code",
   "execution_count": null,
   "id": "f120939f-18a9-44d6-afa7-18f43ad320f7",
   "metadata": {},
   "outputs": [],
   "source": [
    "file1 = \"two-foxes.jpeg\""
   ]
  },
  {
   "cell_type": "code",
   "execution_count": null,
   "id": "d51ec276-1f31-491a-a81a-056c0ba74991",
   "metadata": {},
   "outputs": [],
   "source": [
    "path1 = os.path.join(path, file1)"
   ]
  },
  {
   "cell_type": "code",
   "execution_count": null,
   "id": "e48fd314-f6f8-4765-b0d3-d2e01fda537d",
   "metadata": {},
   "outputs": [],
   "source": [
    "result = explain(path1)\n",
    "result"
   ]
  },
  {
   "cell_type": "markdown",
   "id": "ed880b6f-e692-4de1-92a1-08d58dcc1f9b",
   "metadata": {},
   "source": [
    "## Case 2: Download Image and Extract the Text from It"
   ]
  },
  {
   "cell_type": "code",
   "execution_count": null,
   "id": "a2ed10d2-22f6-45cf-853e-40c262570552",
   "metadata": {},
   "outputs": [],
   "source": [
    "# Create an instance\n",
    "ocr = OCRProcessor(model_name=llm)"
   ]
  },
  {
   "cell_type": "code",
   "execution_count": null,
   "id": "27436b14-03db-4845-af39-fc1a0003bfe5",
   "metadata": {},
   "outputs": [],
   "source": [
    "def extract (path, output):\n",
    "    response = ocr.process_image(\n",
    "        image_path=path,\n",
    "        format_type=output,\n",
    "    )\n",
    "    return response"
   ]
  },
  {
   "cell_type": "markdown",
   "id": "b2d7901a-c49c-46da-93a4-9a8f01586e63",
   "metadata": {},
   "source": [
    "### Test"
   ]
  },
  {
   "cell_type": "code",
   "execution_count": null,
   "id": "70c8f76b-2f7b-4036-b2c2-cc0e9d511cb6",
   "metadata": {},
   "outputs": [],
   "source": [
    "output_type = input()\n",
    "# output_type = \"markdown\""
   ]
  },
  {
   "cell_type": "code",
   "execution_count": null,
   "id": "3dcb4d02-f284-49cc-8a2f-14c1c59d832b",
   "metadata": {},
   "outputs": [],
   "source": [
    "file2 = 'invoice.jpeg'"
   ]
  },
  {
   "cell_type": "code",
   "execution_count": null,
   "id": "191d60ff-1b96-4c6f-abfb-7a359979a81c",
   "metadata": {},
   "outputs": [],
   "source": [
    "path2 = os.path.join(path, file2)"
   ]
  },
  {
   "cell_type": "code",
   "execution_count": null,
   "id": "1bdfd655-8d13-4f67-97ae-a2e51b1381aa",
   "metadata": {},
   "outputs": [],
   "source": [
    "# Display the image\n",
    "display(Image(filename=path2, width=400))"
   ]
  },
  {
   "cell_type": "code",
   "execution_count": null,
   "id": "041409fb-0bdb-4a05-830f-c53e3ea192b2",
   "metadata": {},
   "outputs": [],
   "source": [
    "response = extract(path2, output_type)\n",
    "response"
   ]
  },
  {
   "cell_type": "code",
   "execution_count": null,
   "id": "ac8a2674-36b3-4ad4-b65a-5ceffd871781",
   "metadata": {},
   "outputs": [],
   "source": [
    "display(Markdown(response))"
   ]
  },
  {
   "cell_type": "code",
   "execution_count": null,
   "id": "45e7f9d4-19b8-450a-b46b-8cf05cce66dc",
   "metadata": {},
   "outputs": [],
   "source": []
  }
 ],
 "metadata": {
  "kernelspec": {
   "display_name": "Python 3 (ipykernel)",
   "language": "python",
   "name": "python3"
  },
  "language_info": {
   "codemirror_mode": {
    "name": "ipython",
    "version": 3
   },
   "file_extension": ".py",
   "mimetype": "text/x-python",
   "name": "python",
   "nbconvert_exporter": "python",
   "pygments_lexer": "ipython3",
   "version": "3.12.8"
  }
 },
 "nbformat": 4,
 "nbformat_minor": 5
}
