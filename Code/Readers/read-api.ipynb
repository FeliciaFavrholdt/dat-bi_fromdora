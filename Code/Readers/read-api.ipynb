{
 "cells": [
  {
   "cell_type": "markdown",
   "id": "7457d4e8",
   "metadata": {},
   "source": [
    "# Read API"
   ]
  },
  {
   "cell_type": "code",
   "execution_count": null,
   "id": "43a42acb-4ca2-4bbc-83dc-0ee0dbb8e9c0",
   "metadata": {},
   "outputs": [],
   "source": [
    "import os\n",
    "import json\n",
    "import requests\n",
    "import pprint\n",
    "import pandas as pd"
   ]
  },
  {
   "cell_type": "code",
   "execution_count": null,
   "id": "18841ae3",
   "metadata": {},
   "outputs": [],
   "source": [
    "# Reads from the url and stores the response in a json file\n",
    "def readAPI(url, params, headers, myfile):  \n",
    "    list = []\n",
    "    response = requests.get(url, params=params, headers=headers).json()\n",
    "    list.append(response)\n",
    "    \n",
    "    # save in json file        \n",
    "    with open(myfile, 'w') as f:\n",
    "        json.dump(list,f)\n",
    "    return"
   ]
  },
  {
   "cell_type": "markdown",
   "id": "4af71fa4",
   "metadata": {},
   "source": [
    "## Test"
   ]
  },
  {
   "cell_type": "code",
   "execution_count": null,
   "id": "8629e80c",
   "metadata": {},
   "outputs": [],
   "source": [
    "# Use CVR API\n",
    "# Search by CVR (vat), name (name), phone (phone) or production unit (produ) - key\n",
    "# Cphbusiness cvr(31678021)"
   ]
  },
  {
   "cell_type": "markdown",
   "id": "e78180bd-cfa3-4b14-aa1e-3d2fac51d55f",
   "metadata": {},
   "source": [
    "The source API requires mandatory parameters '_params_' and '_headers_' in the get() request. <br>\n",
    "- '_params_' includes the search key and the country\n",
    "- '_headers_' includes the user's identification"
   ]
  },
  {
   "cell_type": "code",
   "execution_count": null,
   "id": "a2e28bde",
   "metadata": {},
   "outputs": [],
   "source": [
    "# the name of the company for which data is extracted\n",
    "# company = \"Københavns Erhvervsakademi\"\n",
    "company = input()"
   ]
  },
  {
   "cell_type": "code",
   "execution_count": null,
   "id": "bea41494-dc57-4ad8-9b83-f858e13574c1",
   "metadata": {},
   "outputs": [],
   "source": [
    "# user identification (alias)\n",
    "# user = <your alias here>\n",
    "user = 'user'"
   ]
  },
  {
   "cell_type": "code",
   "execution_count": null,
   "id": "5489524f",
   "metadata": {},
   "outputs": [],
   "source": [
    "url='http://cvrapi.dk/api'  \n",
    "params = {'search':company, 'country':'DK'}\n",
    "headers = {'User-Agent': user}"
   ]
  },
  {
   "cell_type": "code",
   "execution_count": null,
   "id": "e2b45352",
   "metadata": {},
   "outputs": [],
   "source": [
    "# The response from the API reader is stored in a file as JSON object\n",
    "myfile = 'apitest.json'"
   ]
  },
  {
   "cell_type": "code",
   "execution_count": null,
   "id": "379c183c",
   "metadata": {},
   "outputs": [],
   "source": [
    "# response goes in the file\n",
    "response = readAPI(url, params, headers, myfile)"
   ]
  },
  {
   "cell_type": "markdown",
   "id": "b9cca262-6965-4087-bbfc-a0e6f65945ab",
   "metadata": {},
   "source": [
    "## Read the File into DataFrame"
   ]
  },
  {
   "cell_type": "code",
   "execution_count": null,
   "id": "d029bc70",
   "metadata": {},
   "outputs": [],
   "source": [
    "df = pd.read_json(myfile)"
   ]
  },
  {
   "cell_type": "code",
   "execution_count": null,
   "id": "fec1cb1b-91c4-446f-b946-483ac2ce19c5",
   "metadata": {},
   "outputs": [],
   "source": [
    "df"
   ]
  },
  {
   "cell_type": "code",
   "execution_count": null,
   "id": "620da9fc-5d56-4b64-a46c-7806be3773c2",
   "metadata": {},
   "outputs": [],
   "source": []
  }
 ],
 "metadata": {
  "kernelspec": {
   "display_name": "Python 3 (ipykernel)",
   "language": "python",
   "name": "python3"
  },
  "language_info": {
   "codemirror_mode": {
    "name": "ipython",
    "version": 3
   },
   "file_extension": ".py",
   "mimetype": "text/x-python",
   "name": "python",
   "nbconvert_exporter": "python",
   "pygments_lexer": "ipython3",
   "version": "3.12.8"
  }
 },
 "nbformat": 4,
 "nbformat_minor": 5
}
