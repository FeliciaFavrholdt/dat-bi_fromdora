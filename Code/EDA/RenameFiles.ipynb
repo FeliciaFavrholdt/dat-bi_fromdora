{
 "cells": [
  {
   "cell_type": "markdown",
   "id": "c285a00e",
   "metadata": {},
   "source": [
    "# Rename All Files in Directory"
   ]
  },
  {
   "cell_type": "code",
   "execution_count": 1,
   "id": "edf6d451",
   "metadata": {},
   "outputs": [],
   "source": [
    "# import libraries for working with OS and RegEx\n",
    "import os, re\n",
    "from os import listdir, rename, chdir"
   ]
  },
  {
   "cell_type": "code",
   "execution_count": 2,
   "id": "7a2d4a61",
   "metadata": {},
   "outputs": [
    {
     "data": {
      "text/plain": [
       "'/Users/tdi/Documents/Teaching/BI/2024-2/Code'"
      ]
     },
     "execution_count": 2,
     "metadata": {},
     "output_type": "execute_result"
    }
   ],
   "source": [
    "# get current directory\n",
    "path = os.getcwd()\n",
    "path"
   ]
  },
  {
   "cell_type": "code",
   "execution_count": 9,
   "id": "6e7fb4b7",
   "metadata": {},
   "outputs": [],
   "source": [
    "# rename all files, removing the digits from their name\n",
    "def rename_files(dirname):\n",
    "    os.chdir(dirname)\n",
    "    fnames = listdir('.')\n",
    "\n",
    "    for filename in fnames:\n",
    "        # find all digit characters in filename and replace them with ''\n",
    "        newName = re.sub(r'\\d+','',filename)\n",
    "        os.rename(filename, newName)"
   ]
  },
  {
   "cell_type": "code",
   "execution_count": 10,
   "id": "1c4ecd14",
   "metadata": {},
   "outputs": [],
   "source": [
    "# pass your dir name as parameter\n",
    "rename_files('../data/pranko')"
   ]
  },
  {
   "cell_type": "code",
   "execution_count": null,
   "id": "2c67129c-ec54-459f-8d52-6880e5f22145",
   "metadata": {},
   "outputs": [],
   "source": []
  }
 ],
 "metadata": {
  "kernelspec": {
   "display_name": "Python 3 (ipykernel)",
   "language": "python",
   "name": "python3"
  },
  "language_info": {
   "codemirror_mode": {
    "name": "ipython",
    "version": 3
   },
   "file_extension": ".py",
   "mimetype": "text/x-python",
   "name": "python",
   "nbconvert_exporter": "python",
   "pygments_lexer": "ipython3",
   "version": "3.12.4"
  }
 },
 "nbformat": 4,
 "nbformat_minor": 5
}
